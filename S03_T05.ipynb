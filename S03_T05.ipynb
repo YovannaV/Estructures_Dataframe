{
 "cells": [
  {
   "cell_type": "markdown",
   "id": "2ad1207f",
   "metadata": {},
   "source": [
    "### Familiarízate con las técnicas de exploración de los datos mediante la estructura de datos, Dataframe con la librería Pandas.\n",
    "___\n",
    "# Nivel 1\n",
    "## Ejercicio 1\n",
    "Descarga el dataset Airlines Delay: Airline on-time statistics and delay causas y cárgalo a un pandas Dataframe. Explora los datos que contiene, y quedate únicamente con las columnas que consideres relevantes.\n",
    "\n"
   ]
  },
  {
   "cell_type": "code",
   "execution_count": 1,
   "id": "5c7255dd",
   "metadata": {},
   "outputs": [],
   "source": [
    "#primero importamos las librerias necesarias\n",
    "import pandas as pd\n",
    "import matplotlib.pyplot as plt"
   ]
  },
  {
   "cell_type": "code",
   "execution_count": 2,
   "id": "45ac84ec",
   "metadata": {},
   "outputs": [],
   "source": [
    "import numpy as np"
   ]
  },
  {
   "cell_type": "code",
   "execution_count": 3,
   "id": "aee2c810",
   "metadata": {},
   "outputs": [],
   "source": [
    "#ahora subimos el dataset a un panda dataframe\n",
    "airlines_delay = pd.read_csv('DelayedFlights.csv')"
   ]
  },
  {
   "cell_type": "markdown",
   "id": "86e50cea",
   "metadata": {},
   "source": [
    "obtenemos informacion basica del tipo de datos que contiene el dataset con la funcion *'info()'*, con la que se obtienen los detalles sobre el conjunto de datos, como el número de filas y columnas, los nombres de las columnas, qué tipo de datos hay en cada columna y cuánta memoria se está usando."
   ]
  },
  {
   "cell_type": "code",
   "execution_count": 4,
   "id": "f0e78aad",
   "metadata": {},
   "outputs": [
    {
     "name": "stdout",
     "output_type": "stream",
     "text": [
      "<class 'pandas.core.frame.DataFrame'>\n",
      "RangeIndex: 1936758 entries, 0 to 1936757\n",
      "Data columns (total 30 columns):\n",
      " #   Column             Dtype  \n",
      "---  ------             -----  \n",
      " 0   Unnamed: 0         int64  \n",
      " 1   Year               int64  \n",
      " 2   Month              int64  \n",
      " 3   DayofMonth         int64  \n",
      " 4   DayOfWeek          int64  \n",
      " 5   DepTime            float64\n",
      " 6   CRSDepTime         int64  \n",
      " 7   ArrTime            float64\n",
      " 8   CRSArrTime         int64  \n",
      " 9   UniqueCarrier      object \n",
      " 10  FlightNum          int64  \n",
      " 11  TailNum            object \n",
      " 12  ActualElapsedTime  float64\n",
      " 13  CRSElapsedTime     float64\n",
      " 14  AirTime            float64\n",
      " 15  ArrDelay           float64\n",
      " 16  DepDelay           float64\n",
      " 17  Origin             object \n",
      " 18  Dest               object \n",
      " 19  Distance           int64  \n",
      " 20  TaxiIn             float64\n",
      " 21  TaxiOut            float64\n",
      " 22  Cancelled          int64  \n",
      " 23  CancellationCode   object \n",
      " 24  Diverted           int64  \n",
      " 25  CarrierDelay       float64\n",
      " 26  WeatherDelay       float64\n",
      " 27  NASDelay           float64\n",
      " 28  SecurityDelay      float64\n",
      " 29  LateAircraftDelay  float64\n",
      "dtypes: float64(14), int64(11), object(5)\n",
      "memory usage: 443.3+ MB\n"
     ]
    }
   ],
   "source": [
    "airlines_delay.info() #proporciona informacion basica del dataset"
   ]
  },
  {
   "cell_type": "code",
   "execution_count": 5,
   "id": "446537d0",
   "metadata": {
    "scrolled": true
   },
   "outputs": [
    {
     "data": {
      "text/html": [
       "<div>\n",
       "<style scoped>\n",
       "    .dataframe tbody tr th:only-of-type {\n",
       "        vertical-align: middle;\n",
       "    }\n",
       "\n",
       "    .dataframe tbody tr th {\n",
       "        vertical-align: top;\n",
       "    }\n",
       "\n",
       "    .dataframe thead th {\n",
       "        text-align: right;\n",
       "    }\n",
       "</style>\n",
       "<table border=\"1\" class=\"dataframe\">\n",
       "  <thead>\n",
       "    <tr style=\"text-align: right;\">\n",
       "      <th></th>\n",
       "      <th>Unnamed: 0</th>\n",
       "      <th>Year</th>\n",
       "      <th>Month</th>\n",
       "      <th>DayofMonth</th>\n",
       "      <th>DayOfWeek</th>\n",
       "      <th>DepTime</th>\n",
       "      <th>CRSDepTime</th>\n",
       "      <th>ArrTime</th>\n",
       "      <th>CRSArrTime</th>\n",
       "      <th>UniqueCarrier</th>\n",
       "      <th>...</th>\n",
       "      <th>TaxiIn</th>\n",
       "      <th>TaxiOut</th>\n",
       "      <th>Cancelled</th>\n",
       "      <th>CancellationCode</th>\n",
       "      <th>Diverted</th>\n",
       "      <th>CarrierDelay</th>\n",
       "      <th>WeatherDelay</th>\n",
       "      <th>NASDelay</th>\n",
       "      <th>SecurityDelay</th>\n",
       "      <th>LateAircraftDelay</th>\n",
       "    </tr>\n",
       "  </thead>\n",
       "  <tbody>\n",
       "    <tr>\n",
       "      <th>0</th>\n",
       "      <td>0</td>\n",
       "      <td>2008</td>\n",
       "      <td>1</td>\n",
       "      <td>3</td>\n",
       "      <td>4</td>\n",
       "      <td>2003.0</td>\n",
       "      <td>1955</td>\n",
       "      <td>2211.0</td>\n",
       "      <td>2225</td>\n",
       "      <td>WN</td>\n",
       "      <td>...</td>\n",
       "      <td>4.0</td>\n",
       "      <td>8.0</td>\n",
       "      <td>0</td>\n",
       "      <td>N</td>\n",
       "      <td>0</td>\n",
       "      <td>NaN</td>\n",
       "      <td>NaN</td>\n",
       "      <td>NaN</td>\n",
       "      <td>NaN</td>\n",
       "      <td>NaN</td>\n",
       "    </tr>\n",
       "    <tr>\n",
       "      <th>1</th>\n",
       "      <td>1</td>\n",
       "      <td>2008</td>\n",
       "      <td>1</td>\n",
       "      <td>3</td>\n",
       "      <td>4</td>\n",
       "      <td>754.0</td>\n",
       "      <td>735</td>\n",
       "      <td>1002.0</td>\n",
       "      <td>1000</td>\n",
       "      <td>WN</td>\n",
       "      <td>...</td>\n",
       "      <td>5.0</td>\n",
       "      <td>10.0</td>\n",
       "      <td>0</td>\n",
       "      <td>N</td>\n",
       "      <td>0</td>\n",
       "      <td>NaN</td>\n",
       "      <td>NaN</td>\n",
       "      <td>NaN</td>\n",
       "      <td>NaN</td>\n",
       "      <td>NaN</td>\n",
       "    </tr>\n",
       "    <tr>\n",
       "      <th>2</th>\n",
       "      <td>2</td>\n",
       "      <td>2008</td>\n",
       "      <td>1</td>\n",
       "      <td>3</td>\n",
       "      <td>4</td>\n",
       "      <td>628.0</td>\n",
       "      <td>620</td>\n",
       "      <td>804.0</td>\n",
       "      <td>750</td>\n",
       "      <td>WN</td>\n",
       "      <td>...</td>\n",
       "      <td>3.0</td>\n",
       "      <td>17.0</td>\n",
       "      <td>0</td>\n",
       "      <td>N</td>\n",
       "      <td>0</td>\n",
       "      <td>NaN</td>\n",
       "      <td>NaN</td>\n",
       "      <td>NaN</td>\n",
       "      <td>NaN</td>\n",
       "      <td>NaN</td>\n",
       "    </tr>\n",
       "    <tr>\n",
       "      <th>3</th>\n",
       "      <td>4</td>\n",
       "      <td>2008</td>\n",
       "      <td>1</td>\n",
       "      <td>3</td>\n",
       "      <td>4</td>\n",
       "      <td>1829.0</td>\n",
       "      <td>1755</td>\n",
       "      <td>1959.0</td>\n",
       "      <td>1925</td>\n",
       "      <td>WN</td>\n",
       "      <td>...</td>\n",
       "      <td>3.0</td>\n",
       "      <td>10.0</td>\n",
       "      <td>0</td>\n",
       "      <td>N</td>\n",
       "      <td>0</td>\n",
       "      <td>2.0</td>\n",
       "      <td>0.0</td>\n",
       "      <td>0.0</td>\n",
       "      <td>0.0</td>\n",
       "      <td>32.0</td>\n",
       "    </tr>\n",
       "    <tr>\n",
       "      <th>4</th>\n",
       "      <td>5</td>\n",
       "      <td>2008</td>\n",
       "      <td>1</td>\n",
       "      <td>3</td>\n",
       "      <td>4</td>\n",
       "      <td>1940.0</td>\n",
       "      <td>1915</td>\n",
       "      <td>2121.0</td>\n",
       "      <td>2110</td>\n",
       "      <td>WN</td>\n",
       "      <td>...</td>\n",
       "      <td>4.0</td>\n",
       "      <td>10.0</td>\n",
       "      <td>0</td>\n",
       "      <td>N</td>\n",
       "      <td>0</td>\n",
       "      <td>NaN</td>\n",
       "      <td>NaN</td>\n",
       "      <td>NaN</td>\n",
       "      <td>NaN</td>\n",
       "      <td>NaN</td>\n",
       "    </tr>\n",
       "  </tbody>\n",
       "</table>\n",
       "<p>5 rows × 30 columns</p>\n",
       "</div>"
      ],
      "text/plain": [
       "   Unnamed: 0  Year  Month  DayofMonth  DayOfWeek  DepTime  CRSDepTime  \\\n",
       "0           0  2008      1           3          4   2003.0        1955   \n",
       "1           1  2008      1           3          4    754.0         735   \n",
       "2           2  2008      1           3          4    628.0         620   \n",
       "3           4  2008      1           3          4   1829.0        1755   \n",
       "4           5  2008      1           3          4   1940.0        1915   \n",
       "\n",
       "   ArrTime  CRSArrTime UniqueCarrier  ...  TaxiIn TaxiOut  Cancelled  \\\n",
       "0   2211.0        2225            WN  ...     4.0     8.0          0   \n",
       "1   1002.0        1000            WN  ...     5.0    10.0          0   \n",
       "2    804.0         750            WN  ...     3.0    17.0          0   \n",
       "3   1959.0        1925            WN  ...     3.0    10.0          0   \n",
       "4   2121.0        2110            WN  ...     4.0    10.0          0   \n",
       "\n",
       "   CancellationCode  Diverted  CarrierDelay  WeatherDelay NASDelay  \\\n",
       "0                 N         0           NaN           NaN      NaN   \n",
       "1                 N         0           NaN           NaN      NaN   \n",
       "2                 N         0           NaN           NaN      NaN   \n",
       "3                 N         0           2.0           0.0      0.0   \n",
       "4                 N         0           NaN           NaN      NaN   \n",
       "\n",
       "  SecurityDelay  LateAircraftDelay  \n",
       "0           NaN                NaN  \n",
       "1           NaN                NaN  \n",
       "2           NaN                NaN  \n",
       "3           0.0               32.0  \n",
       "4           NaN                NaN  \n",
       "\n",
       "[5 rows x 30 columns]"
      ]
     },
     "execution_count": 5,
     "metadata": {},
     "output_type": "execute_result"
    }
   ],
   "source": [
    "airlines_delay.head() #muestra las primeras filas de datos para visuzalizar la estructura del dataset"
   ]
  },
  {
   "cell_type": "markdown",
   "id": "e8102509",
   "metadata": {},
   "source": [
    "## Ejercicio 2\n",
    "Realiza un informe completo del dataset:.\n",
    "\n",
    "- Resume estadísticamente las columnas de interés\n",
    "\n"
   ]
  },
  {
   "cell_type": "markdown",
   "id": "fdf452a4",
   "metadata": {},
   "source": [
    "Para seleccionaar las columnas, se pueden seleccionar por el nombre de la columna (*'serie'*) o por el index de la columna. En este caso se seleccionaron en base al titulo de la columna:"
   ]
  },
  {
   "cell_type": "code",
   "execution_count": 6,
   "id": "3901dbc6",
   "metadata": {},
   "outputs": [],
   "source": [
    "int_airlines_delay = airlines_delay[['UniqueCarrier','Year','DepDelay','ArrDelay','FlightNum','AirTime', 'Distance']] #seleccion de columnas de interes\n",
    "extract_delay =int_airlines_delay.copy() #crea una copia del dataframe con las columnas seleccionadas"
   ]
  },
  {
   "cell_type": "code",
   "execution_count": 7,
   "id": "ce1d6b96",
   "metadata": {},
   "outputs": [
    {
     "data": {
      "text/html": [
       "<div>\n",
       "<style scoped>\n",
       "    .dataframe tbody tr th:only-of-type {\n",
       "        vertical-align: middle;\n",
       "    }\n",
       "\n",
       "    .dataframe tbody tr th {\n",
       "        vertical-align: top;\n",
       "    }\n",
       "\n",
       "    .dataframe thead th {\n",
       "        text-align: right;\n",
       "    }\n",
       "</style>\n",
       "<table border=\"1\" class=\"dataframe\">\n",
       "  <thead>\n",
       "    <tr style=\"text-align: right;\">\n",
       "      <th></th>\n",
       "      <th>Year</th>\n",
       "      <th>DepDelay</th>\n",
       "      <th>ArrDelay</th>\n",
       "      <th>FlightNum</th>\n",
       "      <th>AirTime</th>\n",
       "      <th>Distance</th>\n",
       "    </tr>\n",
       "  </thead>\n",
       "  <tbody>\n",
       "    <tr>\n",
       "      <th>count</th>\n",
       "      <td>1936758.0</td>\n",
       "      <td>1.936758e+06</td>\n",
       "      <td>1.928371e+06</td>\n",
       "      <td>1.936758e+06</td>\n",
       "      <td>1.928371e+06</td>\n",
       "      <td>1.936758e+06</td>\n",
       "    </tr>\n",
       "    <tr>\n",
       "      <th>mean</th>\n",
       "      <td>2008.0</td>\n",
       "      <td>4.318518e+01</td>\n",
       "      <td>4.219988e+01</td>\n",
       "      <td>2.184263e+03</td>\n",
       "      <td>1.082771e+02</td>\n",
       "      <td>7.656862e+02</td>\n",
       "    </tr>\n",
       "    <tr>\n",
       "      <th>std</th>\n",
       "      <td>0.0</td>\n",
       "      <td>5.340250e+01</td>\n",
       "      <td>5.678472e+01</td>\n",
       "      <td>1.944702e+03</td>\n",
       "      <td>6.864261e+01</td>\n",
       "      <td>5.744797e+02</td>\n",
       "    </tr>\n",
       "    <tr>\n",
       "      <th>min</th>\n",
       "      <td>2008.0</td>\n",
       "      <td>6.000000e+00</td>\n",
       "      <td>-1.090000e+02</td>\n",
       "      <td>1.000000e+00</td>\n",
       "      <td>0.000000e+00</td>\n",
       "      <td>1.100000e+01</td>\n",
       "    </tr>\n",
       "    <tr>\n",
       "      <th>25%</th>\n",
       "      <td>2008.0</td>\n",
       "      <td>1.200000e+01</td>\n",
       "      <td>9.000000e+00</td>\n",
       "      <td>6.100000e+02</td>\n",
       "      <td>5.800000e+01</td>\n",
       "      <td>3.380000e+02</td>\n",
       "    </tr>\n",
       "    <tr>\n",
       "      <th>50%</th>\n",
       "      <td>2008.0</td>\n",
       "      <td>2.400000e+01</td>\n",
       "      <td>2.400000e+01</td>\n",
       "      <td>1.543000e+03</td>\n",
       "      <td>9.000000e+01</td>\n",
       "      <td>6.060000e+02</td>\n",
       "    </tr>\n",
       "    <tr>\n",
       "      <th>75%</th>\n",
       "      <td>2008.0</td>\n",
       "      <td>5.300000e+01</td>\n",
       "      <td>5.600000e+01</td>\n",
       "      <td>3.422000e+03</td>\n",
       "      <td>1.370000e+02</td>\n",
       "      <td>9.980000e+02</td>\n",
       "    </tr>\n",
       "    <tr>\n",
       "      <th>max</th>\n",
       "      <td>2008.0</td>\n",
       "      <td>2.467000e+03</td>\n",
       "      <td>2.461000e+03</td>\n",
       "      <td>9.742000e+03</td>\n",
       "      <td>1.091000e+03</td>\n",
       "      <td>4.962000e+03</td>\n",
       "    </tr>\n",
       "  </tbody>\n",
       "</table>\n",
       "</div>"
      ],
      "text/plain": [
       "            Year      DepDelay      ArrDelay     FlightNum       AirTime  \\\n",
       "count  1936758.0  1.936758e+06  1.928371e+06  1.936758e+06  1.928371e+06   \n",
       "mean      2008.0  4.318518e+01  4.219988e+01  2.184263e+03  1.082771e+02   \n",
       "std          0.0  5.340250e+01  5.678472e+01  1.944702e+03  6.864261e+01   \n",
       "min       2008.0  6.000000e+00 -1.090000e+02  1.000000e+00  0.000000e+00   \n",
       "25%       2008.0  1.200000e+01  9.000000e+00  6.100000e+02  5.800000e+01   \n",
       "50%       2008.0  2.400000e+01  2.400000e+01  1.543000e+03  9.000000e+01   \n",
       "75%       2008.0  5.300000e+01  5.600000e+01  3.422000e+03  1.370000e+02   \n",
       "max       2008.0  2.467000e+03  2.461000e+03  9.742000e+03  1.091000e+03   \n",
       "\n",
       "           Distance  \n",
       "count  1.936758e+06  \n",
       "mean   7.656862e+02  \n",
       "std    5.744797e+02  \n",
       "min    1.100000e+01  \n",
       "25%    3.380000e+02  \n",
       "50%    6.060000e+02  \n",
       "75%    9.980000e+02  \n",
       "max    4.962000e+03  "
      ]
     },
     "execution_count": 7,
     "metadata": {},
     "output_type": "execute_result"
    }
   ],
   "source": [
    "# llamada al metodo que proporciona una descripcion estadistica de las columnas seleccionadas\n",
    "extract_delay.describe()\n",
    "\n"
   ]
  },
  {
   "cell_type": "markdown",
   "id": "95ebb096",
   "metadata": {},
   "source": [
    "- Encuentra cuántos datos faltantes hay por columna\n"
   ]
  },
  {
   "cell_type": "code",
   "execution_count": 8,
   "id": "ef287df8",
   "metadata": {},
   "outputs": [
    {
     "data": {
      "text/plain": [
       "Unnamed: 0                0\n",
       "Year                      0\n",
       "Month                     0\n",
       "DayofMonth                0\n",
       "DayOfWeek                 0\n",
       "DepTime                   0\n",
       "CRSDepTime                0\n",
       "ArrTime                7110\n",
       "CRSArrTime                0\n",
       "UniqueCarrier             0\n",
       "FlightNum                 0\n",
       "TailNum                   5\n",
       "ActualElapsedTime      8387\n",
       "CRSElapsedTime          198\n",
       "AirTime                8387\n",
       "ArrDelay               8387\n",
       "DepDelay                  0\n",
       "Origin                    0\n",
       "Dest                      0\n",
       "Distance                  0\n",
       "TaxiIn                 7110\n",
       "TaxiOut                 455\n",
       "Cancelled                 0\n",
       "CancellationCode          0\n",
       "Diverted                  0\n",
       "CarrierDelay         689270\n",
       "WeatherDelay         689270\n",
       "NASDelay             689270\n",
       "SecurityDelay        689270\n",
       "LateAircraftDelay    689270\n",
       "dtype: int64"
      ]
     },
     "execution_count": 8,
     "metadata": {},
     "output_type": "execute_result"
    }
   ],
   "source": [
    "airlines_delay.isnull().sum() #busca los datos faltantes y sumariza el resultado"
   ]
  },
  {
   "cell_type": "code",
   "execution_count": 9,
   "id": "d157b856",
   "metadata": {},
   "outputs": [
    {
     "data": {
      "text/plain": [
       "UniqueCarrier       0\n",
       "Year                0\n",
       "DepDelay            0\n",
       "ArrDelay         8387\n",
       "FlightNum           0\n",
       "AirTime          8387\n",
       "Distance            0\n",
       "dtype: int64"
      ]
     },
     "execution_count": 9,
     "metadata": {},
     "output_type": "execute_result"
    }
   ],
   "source": [
    "extract_delay.isnull().sum()"
   ]
  },
  {
   "cell_type": "markdown",
   "id": "4a398209",
   "metadata": {},
   "source": [
    "Se puede observar que 12 columnas tienen datos faltantes en el dataset original y que el dataset de columnas de interes solo 2 columnas tienen datos faltantes."
   ]
  },
  {
   "cell_type": "markdown",
   "id": "84ed9d1b",
   "metadata": {},
   "source": [
    "- Crea nuevas columnas (velocidad media del vuelo, si ha llegado tarde o no...)\n"
   ]
  },
  {
   "cell_type": "code",
   "execution_count": 10,
   "id": "1c541fb6",
   "metadata": {},
   "outputs": [
    {
     "name": "stdout",
     "output_type": "stream",
     "text": [
      "         FlightNum  Meanspeed\n",
      "0              335   6.982759\n",
      "1             3231   7.168142\n",
      "2              448   6.776316\n",
      "3             3920   6.688312\n",
      "4              378   7.908046\n",
      "...            ...        ...\n",
      "1936753       1621   7.550000\n",
      "1936754       1631   6.166667\n",
      "1936755       1631   5.647541\n",
      "1936756       1639   5.988764\n",
      "1936757       1641   8.403846\n",
      "\n",
      "[1936758 rows x 2 columns]\n"
     ]
    }
   ],
   "source": [
    "#Se crea una nueva columna especificando el titulo y se genera el calculo de la\n",
    "#velocidad media de vuelo = (distancia / tiempo de vuelo) llamando a la columna la informacion necesaria\n",
    "airlines_delay['Meanspeed'] = airlines_delay['Distance'] / airlines_delay['AirTime']\n",
    "print(airlines_delay[['FlightNum','Meanspeed']]) #se imprime la meanspeed de cada vuelo"
   ]
  },
  {
   "cell_type": "code",
   "execution_count": 11,
   "id": "3b35fb4f",
   "metadata": {},
   "outputs": [
    {
     "name": "stdout",
     "output_type": "stream",
     "text": [
      "         FlightNum  Late arrival\n",
      "0              335         False\n",
      "1             3231          True\n",
      "2              448          True\n",
      "3             3920          True\n",
      "4              378          True\n",
      "...            ...           ...\n",
      "1936753       1621          True\n",
      "1936754       1631          True\n",
      "1936755       1631          True\n",
      "1936756       1639          True\n",
      "1936757       1641         False\n",
      "\n",
      "[1936758 rows x 2 columns]\n"
     ]
    }
   ],
   "source": [
    "#de igual manera se crea un condicional para determinar si un vuelo sufrio retraso o no\n",
    "airlines_delay['Late arrival'] = np.where(airlines_delay['ArrDelay'] >0, True, False)\n",
    "print(airlines_delay[['FlightNum','Late arrival']]) #se imprime el numero de vuelo y el resultado de la nueva columna"
   ]
  },
  {
   "cell_type": "markdown",
   "id": "c5bc5df8",
   "metadata": {},
   "source": [
    "- Tabla de las aerolíneas con mayores retrasos acumulados\n",
    "\\n\n",
    "Para crear la tabla de aerolineas con mayores retrasos se hicieron los siguientes pasos:\n",
    "1. Se genero una variable 'n' para especificar el numero de aerolineas a mostrar\n",
    "2. Se filtro una nueva lista que solo incluye los vuelos que han tenido retraso con un condicional \n",
    "3. Se creo una nueva lista donde se agruparon los vuelos por compañia aerea mediante *'groupby'*\n",
    "4. Se ordenaron los valores *'sort_values'* y se tomaron solo los primeros *'n'* valores\n",
    "5. Se imprime la tabla creada\n",
    " \n",
    "\n",
    "Dicho proceso se siguio tanto para Departure y Arrival delay."
   ]
  },
  {
   "cell_type": "code",
   "execution_count": 12,
   "id": "c9c4e486",
   "metadata": {},
   "outputs": [
    {
     "name": "stdout",
     "output_type": "stream",
     "text": [
      "El top 5 de Aerolineas con mayor retraso en departure es:\n",
      " UniqueCarrier\n",
      "WN    377602\n",
      "AA    191865\n",
      "MQ    141920\n",
      "UA    141426\n",
      "OO    132433\n",
      "dtype: int64\n"
     ]
    }
   ],
   "source": [
    "n=5 #variable para el numero de aerolineas a mostrar\n",
    "delayed_dep = airlines_delay.loc[airlines_delay['DepDelay']>0] #filtra la lista por la condicion dada\n",
    "#se crea una nueva lista agrupando los vuelos con retraso por compañia aerea 'groupby'\n",
    "most_delayedDep = delayed_dep.groupby(['UniqueCarrier']).size().sort_values(ascending=False).iloc[0:n]\n",
    "print(\"El top 5 de Aerolineas con mayor retraso en departure es:\\n\", most_delayedDep)"
   ]
  },
  {
   "cell_type": "code",
   "execution_count": 13,
   "id": "63569fc7",
   "metadata": {},
   "outputs": [
    {
     "name": "stdout",
     "output_type": "stream",
     "text": [
      "El top 5 de Aerolineas con mayor retraso en arrival es:\n",
      " UniqueCarrier\n",
      "WN    324717\n",
      "AA    172197\n",
      "MQ    130647\n",
      "UA    123989\n",
      "OO    121942\n",
      "dtype: int64\n"
     ]
    }
   ],
   "source": [
    "delayed_arr = airlines_delay.loc[airlines_delay['ArrDelay']>0] #filtra la lista por la condicion dada\n",
    "most_delayedArr = delayed_arr.groupby(['UniqueCarrier']).size().sort_values(ascending=False).iloc[0:n]\n",
    "#se crea una nueva lista agrupando los vuelos con retraso por compañia aerea 'groupby'\n",
    "print(\"El top 5 de Aerolineas con mayor retraso en arrival es:\\n\", most_delayedArr)\n"
   ]
  },
  {
   "cell_type": "markdown",
   "id": "5ba74972",
   "metadata": {},
   "source": [
    "- ¿Cuáles son los vuelos más largos? ¿Y los más atrasados?\n",
    "- Etc."
   ]
  },
  {
   "cell_type": "markdown",
   "id": "12f0de20",
   "metadata": {},
   "source": [
    "Para encontrar los vuelos mas largos se siguio el mismo procedimiento anterior, con la diferencia que se muestra el origen y el destino de los vuelos."
   ]
  },
  {
   "cell_type": "code",
   "execution_count": 14,
   "id": "321490fd",
   "metadata": {},
   "outputs": [
    {
     "name": "stdout",
     "output_type": "stream",
     "text": [
      "Los vuelos mas largos registrados son:\n",
      " Origin  Dest\n",
      "LAX     SFO     4734\n",
      "ORD     LGA     4355\n",
      "ATL     LGA     4025\n",
      "SFO     LAX     4015\n",
      "LAS     LAX     3512\n",
      "dtype: int64\n"
     ]
    }
   ],
   "source": [
    "airtime = airlines_delay.loc[airlines_delay['AirTime']>0] #filtra la lista por la condicion dada\n",
    "long_airtime = airtime.groupby(['Origin'] + ['Dest']).size().sort_values(ascending=False).iloc[0:n]\n",
    "#se crea una nueva lista agrupando los vuelos con retraso por compañia aerea 'groupby'\n",
    "print(\"Los vuelos mas largos registrados son:\\n\", long_airtime)\n"
   ]
  },
  {
   "cell_type": "markdown",
   "id": "741c3dc3",
   "metadata": {},
   "source": [
    "Asi mismo, se buscaron los vuelos con mayor retraso"
   ]
  },
  {
   "cell_type": "code",
   "execution_count": 15,
   "id": "15389890",
   "metadata": {},
   "outputs": [
    {
     "name": "stdout",
     "output_type": "stream",
     "text": [
      "Los vuelos mas atrasados son:\n",
      " Origin  Dest\n",
      "LAX     SFO     4271\n",
      "ORD     LGA     3902\n",
      "SFO     LAX     3703\n",
      "ATL     LGA     3597\n",
      "LAS     LAX     3153\n",
      "dtype: int64\n"
     ]
    }
   ],
   "source": [
    "top_delay = airlines_delay.loc[airlines_delay['ArrDelay']>0] #filtra la lista por la condicion dada\n",
    "top_delay_f = top_delay.groupby(['Origin'] + ['Dest']).size().sort_values(ascending=False).iloc[0:n]\n",
    "#se crea una nueva lista agrupando los vuelos con retraso por compañia aerea 'groupby'\n",
    "print(\"Los vuelos mas atrasados son:\\n\", top_delay_f)"
   ]
  },
  {
   "cell_type": "markdown",
   "id": "4e23657c",
   "metadata": {},
   "source": [
    "## Ejercicio 3\n",
    "Exporta la dataset neto y con las nuevas columnas a Excel.\n",
    "\\n \n",
    "Por ultimo se exporta el dataset con las columnas nuevas, para ello se utiliza la funcion *'to_excel'*. Debido a que la cantidad de datos incluidas en el dataset sobrepasa el limite de una hoja de calculo, se dividio la informacion en dos hojas de calculo."
   ]
  },
  {
   "cell_type": "code",
   "execution_count": 16,
   "id": "fe8cf819",
   "metadata": {},
   "outputs": [],
   "source": [
    "airlines1 = airlines_delay.iloc[:airlines_delay.shape[0]//2,:] #divide la 1ra parte del dataset\n",
    "airlines2 = airlines_delay.iloc[airlines_delay.shape[0]//2:,:] #divide la 2da parte del dataset\n",
    "writer = pd.ExcelWriter('airlines_delay.xlsx', engine='xlsxwriter') #Crea Pd Excel writer usando XlsxWriter como engine.\n",
    "airlines1.to_excel(writer, sheet_name='First Sheet') #guarda cada df en una hoja\n",
    "airlines2.to_excel(writer, sheet_name='Second Sheet')"
   ]
  },
  {
   "cell_type": "code",
   "execution_count": 17,
   "id": "ba1e8819",
   "metadata": {},
   "outputs": [],
   "source": [
    "writer.save() #cierra el excel writer de pandas y genera el archivo"
   ]
  }
 ],
 "metadata": {
  "kernelspec": {
   "display_name": "Python 3",
   "language": "python",
   "name": "python3"
  },
  "language_info": {
   "codemirror_mode": {
    "name": "ipython",
    "version": 3
   },
   "file_extension": ".py",
   "mimetype": "text/x-python",
   "name": "python",
   "nbconvert_exporter": "python",
   "pygments_lexer": "ipython3",
   "version": "3.8.8"
  }
 },
 "nbformat": 4,
 "nbformat_minor": 5
}
